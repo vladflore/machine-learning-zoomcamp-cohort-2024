{
 "cells": [
  {
   "cell_type": "code",
   "execution_count": 1,
   "id": "c5f21573-fe84-455c-a140-f61202c2daed",
   "metadata": {},
   "outputs": [],
   "source": [
    "import pandas as pd\n",
    "import numpy as np"
   ]
  },
  {
   "cell_type": "markdown",
   "id": "7965be17-4ea5-48d1-a1df-e93943c412dd",
   "metadata": {},
   "source": [
    "### Q1. Panda's version"
   ]
  },
  {
   "cell_type": "code",
   "execution_count": 2,
   "id": "dfdbf70f-773d-43d7-9404-edf275a5ff41",
   "metadata": {},
   "outputs": [
    {
     "data": {
      "text/plain": [
       "'2.2.2'"
      ]
     },
     "execution_count": 2,
     "metadata": {},
     "output_type": "execute_result"
    }
   ],
   "source": [
    "pd.__version__"
   ]
  },
  {
   "cell_type": "code",
   "execution_count": 3,
   "id": "ebb60879-0e38-4e42-a185-869aeb38c975",
   "metadata": {},
   "outputs": [],
   "source": [
    "url = 'https://raw.githubusercontent.com/alexeygrigorev/datasets/master/laptops.csv'\n",
    "df = pd.read_csv(url)"
   ]
  },
  {
   "cell_type": "markdown",
   "id": "1a0f54a5-8664-4970-b536-44a3292df0f1",
   "metadata": {},
   "source": [
    "### Q2. Records count"
   ]
  },
  {
   "cell_type": "code",
   "execution_count": 4,
   "id": "ccac6bea-39b5-4ebc-9356-db3ccddf325c",
   "metadata": {},
   "outputs": [
    {
     "data": {
      "text/plain": [
       "2160"
      ]
     },
     "execution_count": 4,
     "metadata": {},
     "output_type": "execute_result"
    }
   ],
   "source": [
    "df.shape[0]"
   ]
  },
  {
   "cell_type": "markdown",
   "id": "43ba41fb-2fe6-4d60-8199-cc4551bc27fc",
   "metadata": {},
   "source": [
    "### Q3. Laptop brands"
   ]
  },
  {
   "cell_type": "code",
   "execution_count": 5,
   "id": "726e79ea-9a0b-4d12-9e6b-e5721647315d",
   "metadata": {},
   "outputs": [
    {
     "data": {
      "text/plain": [
       "27"
      ]
     },
     "execution_count": 5,
     "metadata": {},
     "output_type": "execute_result"
    }
   ],
   "source": [
    "df.Brand.nunique()"
   ]
  },
  {
   "cell_type": "markdown",
   "id": "989b8798-3b4a-4ef0-92b7-36205f4da16e",
   "metadata": {},
   "source": [
    "### Q4. Missing values"
   ]
  },
  {
   "cell_type": "code",
   "execution_count": 6,
   "id": "784cc811-b2af-4f8d-8afd-ded2f2e11bdd",
   "metadata": {},
   "outputs": [
    {
     "data": {
      "text/plain": [
       "(3, ['Storage type', 'GPU', 'Screen'])"
      ]
     },
     "execution_count": 6,
     "metadata": {},
     "output_type": "execute_result"
    }
   ],
   "source": [
    "n = df.isnull().any().sum()\n",
    "cols = df.columns[df.isnull().any()]\n",
    "n, cols.tolist()"
   ]
  },
  {
   "cell_type": "markdown",
   "id": "d8d78f0f-34d6-41e0-b2c5-c1bbaf077784",
   "metadata": {},
   "source": [
    "### Q5. Maximum final price"
   ]
  },
  {
   "cell_type": "code",
   "execution_count": 7,
   "id": "43e0d421-b640-4a6d-b096-189c4b2fb155",
   "metadata": {},
   "outputs": [
    {
     "data": {
      "text/plain": [
       "3936.0"
      ]
     },
     "execution_count": 7,
     "metadata": {},
     "output_type": "execute_result"
    }
   ],
   "source": [
    "all_dell = df[df.Brand == 'Dell']\n",
    "all_dell['Final Price'].max()"
   ]
  },
  {
   "cell_type": "markdown",
   "id": "6f385d00-6680-45b9-bfb0-1fe73d0dc929",
   "metadata": {},
   "source": [
    "### Q6. Median value of Screen"
   ]
  },
  {
   "cell_type": "code",
   "execution_count": 8,
   "id": "ee42242d-08e9-4073-b643-d91ec19afc42",
   "metadata": {},
   "outputs": [
    {
     "name": "stdout",
     "output_type": "stream",
     "text": [
      "median_before=15.6\n",
      "most_freq_value=15.6\n",
      "median_after=15.6\n"
     ]
    },
    {
     "data": {
      "text/plain": [
       "'No'"
      ]
     },
     "execution_count": 8,
     "metadata": {},
     "output_type": "execute_result"
    }
   ],
   "source": [
    "median_before = df.Screen.median()\n",
    "print(f\"{median_before=}\")\n",
    "most_freq_value = df.Screen.mode().iloc[0]\n",
    "print(f\"{most_freq_value=}\")\n",
    "df.Screen = df.Screen.fillna(most_freq_value)\n",
    "median_after = df.Screen.median()\n",
    "print(f\"{median_after=}\")\n",
    "'Yes' if median_before != median_after else 'No'"
   ]
  },
  {
   "cell_type": "markdown",
   "id": "79ba4e60-7d29-43f6-b37c-eec76f16b0e0",
   "metadata": {},
   "source": [
    "### Q7. Sum of weights"
   ]
  },
  {
   "cell_type": "code",
   "execution_count": 9,
   "id": "ba65837a-b3ea-429b-b4bb-292f9299826b",
   "metadata": {},
   "outputs": [
    {
     "data": {
      "text/plain": [
       "91.2998806299557"
      ]
     },
     "execution_count": 9,
     "metadata": {},
     "output_type": "execute_result"
    }
   ],
   "source": [
    "laptops = df[df.Brand == 'Innjoo']\n",
    "laptops = laptops[['RAM', 'Storage', 'Screen']]\n",
    "X = laptops.to_numpy()\n",
    "transpose = X.T\n",
    "XTX = np.dot(transpose, X)\n",
    "inv = np.linalg.inv(XTX)\n",
    "y = np.array([1100, 1300, 800, 900, 1000, 1100]).reshape(6, 1)\n",
    "w = np.dot(np.dot(inv, transpose), y)\n",
    "w.sum()"
   ]
  },
  {
   "cell_type": "code",
   "execution_count": null,
   "id": "6a1bc43c-75ae-4d5d-a2f0-1149f3020e20",
   "metadata": {},
   "outputs": [],
   "source": []
  }
 ],
 "metadata": {
  "kernelspec": {
   "display_name": "Python 3 (ipykernel)",
   "language": "python",
   "name": "python3"
  },
  "language_info": {
   "codemirror_mode": {
    "name": "ipython",
    "version": 3
   },
   "file_extension": ".py",
   "mimetype": "text/x-python",
   "name": "python",
   "nbconvert_exporter": "python",
   "pygments_lexer": "ipython3",
   "version": "3.12.4"
  }
 },
 "nbformat": 4,
 "nbformat_minor": 5
}
