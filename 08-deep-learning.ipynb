{
 "cells": [
  {
   "cell_type": "code",
   "execution_count": null,
   "id": "7eda695a-4161-4f71-bcf5-42e12b8dd02d",
   "metadata": {
    "execution": {
     "iopub.execute_input": "2024-12-05T19:55:43.027702Z",
     "iopub.status.busy": "2024-12-05T19:55:43.027441Z",
     "iopub.status.idle": "2024-12-05T19:55:45.902940Z",
     "shell.execute_reply": "2024-12-05T19:55:45.902349Z",
     "shell.execute_reply.started": "2024-12-05T19:55:43.027674Z"
    }
   },
   "outputs": [],
   "source": [
    "import tensorflow as tf\n",
    "import numpy as np\n",
    "import matplotlib.pyplot as plt\n",
    "%matplotlib inline\n",
    "from tensorflow import keras\n",
    "from tensorflow.keras.preprocessing.image import load_img\n",
    "from tensorflow.keras.applications.xception import Xception\n",
    "from tensorflow.keras.applications.xception import preprocess_input\n",
    "from tensorflow.keras.applications.xception import decode_predictions\n",
    "from tensorflow.keras.preprocessing.image import ImageDataGenerator"
   ]
  },
  {
   "cell_type": "code",
   "execution_count": null,
   "id": "75746dcf-18c3-4886-a63c-5f6418652bc4",
   "metadata": {
    "execution": {
     "iopub.execute_input": "2024-12-05T19:55:45.904035Z",
     "iopub.status.busy": "2024-12-05T19:55:45.903571Z",
     "iopub.status.idle": "2024-12-05T19:55:49.749019Z",
     "shell.execute_reply": "2024-12-05T19:55:49.747623Z",
     "shell.execute_reply.started": "2024-12-05T19:55:45.904014Z"
    }
   },
   "outputs": [],
   "source": [
    "!rm -rf clothing-dataset-small/\n",
    "!git clone https://github.com/alexeygrigorev/clothing-dataset-small.git"
   ]
  },
  {
   "cell_type": "code",
   "execution_count": null,
   "id": "73ad648d-37f1-4d09-917c-edd8e59aad8b",
   "metadata": {
    "execution": {
     "iopub.execute_input": "2024-12-05T19:55:49.750456Z",
     "iopub.status.busy": "2024-12-05T19:55:49.750048Z",
     "iopub.status.idle": "2024-12-05T19:55:49.805952Z",
     "shell.execute_reply": "2024-12-05T19:55:49.805214Z",
     "shell.execute_reply.started": "2024-12-05T19:55:49.750423Z"
    }
   },
   "outputs": [],
   "source": [
    "img = load_img('./clothing-dataset-small/train/t-shirt/5f0a3fa0-6a3d-4b68-b213-72766a643de7.jpg', target_size=(299, 299))\n",
    "img"
   ]
  },
  {
   "cell_type": "code",
   "execution_count": null,
   "id": "bcd40d77-6909-4371-8bcf-38b248868371",
   "metadata": {
    "execution": {
     "iopub.execute_input": "2024-12-05T19:55:49.807557Z",
     "iopub.status.busy": "2024-12-05T19:55:49.807294Z",
     "iopub.status.idle": "2024-12-05T19:55:49.812325Z",
     "shell.execute_reply": "2024-12-05T19:55:49.811753Z",
     "shell.execute_reply.started": "2024-12-05T19:55:49.807537Z"
    }
   },
   "outputs": [],
   "source": [
    "x = np.array(img)\n",
    "x.shape"
   ]
  },
  {
   "cell_type": "code",
   "execution_count": null,
   "id": "fe9e3261-f552-4e1d-b037-06a7ce28552c",
   "metadata": {
    "execution": {
     "iopub.execute_input": "2024-12-05T19:55:49.813362Z",
     "iopub.status.busy": "2024-12-05T19:55:49.813098Z",
     "iopub.status.idle": "2024-12-05T19:55:51.949940Z",
     "shell.execute_reply": "2024-12-05T19:55:51.949390Z",
     "shell.execute_reply.started": "2024-12-05T19:55:49.813343Z"
    }
   },
   "outputs": [],
   "source": [
    "model = Xception(\n",
    "    weights='imagenet',\n",
    "    input_shape=(299, 299, 3)\n",
    ")"
   ]
  },
  {
   "cell_type": "code",
   "execution_count": null,
   "id": "dcd2cf7e-d5c7-4aea-b66e-e8edb4def3a0",
   "metadata": {
    "execution": {
     "iopub.execute_input": "2024-12-05T19:55:51.952519Z",
     "iopub.status.busy": "2024-12-05T19:55:51.952274Z",
     "iopub.status.idle": "2024-12-05T19:55:51.956409Z",
     "shell.execute_reply": "2024-12-05T19:55:51.955819Z",
     "shell.execute_reply.started": "2024-12-05T19:55:51.952500Z"
    }
   },
   "outputs": [],
   "source": [
    "X = np.array([x])\n",
    "X.shape"
   ]
  },
  {
   "cell_type": "code",
   "execution_count": null,
   "id": "40ab4fb4-ea25-4a56-862b-d617579f819d",
   "metadata": {
    "execution": {
     "iopub.execute_input": "2024-12-05T19:55:51.957661Z",
     "iopub.status.busy": "2024-12-05T19:55:51.957128Z",
     "iopub.status.idle": "2024-12-05T19:55:51.961923Z",
     "shell.execute_reply": "2024-12-05T19:55:51.961368Z",
     "shell.execute_reply.started": "2024-12-05T19:55:51.957637Z"
    }
   },
   "outputs": [],
   "source": [
    "X = preprocess_input(X)\n",
    "X.shape"
   ]
  },
  {
   "cell_type": "code",
   "execution_count": null,
   "id": "157c4d12-2f85-4e19-ad78-63403b63786c",
   "metadata": {
    "execution": {
     "iopub.execute_input": "2024-12-05T19:55:51.962687Z",
     "iopub.status.busy": "2024-12-05T19:55:51.962494Z",
     "iopub.status.idle": "2024-12-05T19:55:55.323458Z",
     "shell.execute_reply": "2024-12-05T19:55:55.322934Z",
     "shell.execute_reply.started": "2024-12-05T19:55:51.962670Z"
    }
   },
   "outputs": [],
   "source": [
    "pred = model.predict(X)\n",
    "pred.shape"
   ]
  },
  {
   "cell_type": "code",
   "execution_count": null,
   "id": "e6bde2b4-7d63-4e78-9766-be8ca59a0f95",
   "metadata": {
    "execution": {
     "iopub.execute_input": "2024-12-05T19:55:55.324636Z",
     "iopub.status.busy": "2024-12-05T19:55:55.324079Z",
     "iopub.status.idle": "2024-12-05T19:55:55.330725Z",
     "shell.execute_reply": "2024-12-05T19:55:55.330170Z",
     "shell.execute_reply.started": "2024-12-05T19:55:55.324615Z"
    }
   },
   "outputs": [],
   "source": [
    "decode_predictions(pred)"
   ]
  },
  {
   "cell_type": "code",
   "execution_count": null,
   "id": "979c7f18-df06-4c8c-8954-48590d045040",
   "metadata": {
    "execution": {
     "iopub.execute_input": "2024-12-05T19:55:55.331577Z",
     "iopub.status.busy": "2024-12-05T19:55:55.331342Z",
     "iopub.status.idle": "2024-12-05T19:55:55.334443Z",
     "shell.execute_reply": "2024-12-05T19:55:55.333876Z",
     "shell.execute_reply.started": "2024-12-05T19:55:55.331560Z"
    }
   },
   "outputs": [],
   "source": [
    "train_gen = ImageDataGenerator(preprocessing_function=preprocess_input)"
   ]
  },
  {
   "cell_type": "code",
   "execution_count": null,
   "id": "8c9cb791-b80f-465f-8b48-faed7e9a6aac",
   "metadata": {
    "execution": {
     "iopub.execute_input": "2024-12-05T19:55:55.335578Z",
     "iopub.status.busy": "2024-12-05T19:55:55.334967Z",
     "iopub.status.idle": "2024-12-05T19:55:55.430940Z",
     "shell.execute_reply": "2024-12-05T19:55:55.430312Z",
     "shell.execute_reply.started": "2024-12-05T19:55:55.335560Z"
    }
   },
   "outputs": [],
   "source": [
    "train_ds = train_gen.flow_from_directory(\n",
    "    './clothing-dataset-small/train/', target_size=(150, 150), batch_size=32\n",
    ")"
   ]
  },
  {
   "cell_type": "code",
   "execution_count": null,
   "id": "1eec219a-148c-4f5a-96cc-24139c872bc0",
   "metadata": {
    "execution": {
     "iopub.execute_input": "2024-12-05T19:55:55.432496Z",
     "iopub.status.busy": "2024-12-05T19:55:55.432186Z",
     "iopub.status.idle": "2024-12-05T19:55:55.438106Z",
     "shell.execute_reply": "2024-12-05T19:55:55.437481Z",
     "shell.execute_reply.started": "2024-12-05T19:55:55.432470Z"
    }
   },
   "outputs": [],
   "source": [
    "train_ds.class_indices"
   ]
  },
  {
   "cell_type": "code",
   "execution_count": null,
   "id": "1bd1f85f-5368-4ff2-b937-9fa49230cd61",
   "metadata": {
    "execution": {
     "iopub.execute_input": "2024-12-05T19:55:55.439206Z",
     "iopub.status.busy": "2024-12-05T19:55:55.438868Z",
     "iopub.status.idle": "2024-12-05T19:55:55.498379Z",
     "shell.execute_reply": "2024-12-05T19:55:55.497842Z",
     "shell.execute_reply.started": "2024-12-05T19:55:55.439179Z"
    }
   },
   "outputs": [],
   "source": [
    "X, y = next(train_ds)"
   ]
  },
  {
   "cell_type": "code",
   "execution_count": null,
   "id": "62975d4a-0c5f-42fa-bf19-5d469c5e5595",
   "metadata": {
    "execution": {
     "iopub.execute_input": "2024-12-05T19:55:55.499454Z",
     "iopub.status.busy": "2024-12-05T19:55:55.499127Z",
     "iopub.status.idle": "2024-12-05T19:55:55.517023Z",
     "shell.execute_reply": "2024-12-05T19:55:55.516558Z",
     "shell.execute_reply.started": "2024-12-05T19:55:55.499432Z"
    }
   },
   "outputs": [],
   "source": [
    "val_gen = ImageDataGenerator(preprocessing_function=preprocess_input)\n",
    "val_ds = val_gen.flow_from_directory(\n",
    "    './clothing-dataset-small/validation/', target_size=(150, 150), batch_size=32, shuffle=False\n",
    ")"
   ]
  },
  {
   "cell_type": "code",
   "execution_count": null,
   "id": "0c58ecf4-db8e-4aa6-843f-9ac34d49b93f",
   "metadata": {
    "execution": {
     "iopub.execute_input": "2024-12-05T19:55:55.518169Z",
     "iopub.status.busy": "2024-12-05T19:55:55.517734Z",
     "iopub.status.idle": "2024-12-05T19:55:56.274421Z",
     "shell.execute_reply": "2024-12-05T19:55:56.273900Z",
     "shell.execute_reply.started": "2024-12-05T19:55:55.518139Z"
    }
   },
   "outputs": [],
   "source": [
    "base_model = Xception(\n",
    "    weights='imagenet', include_top=False, input_shape=(150, 150, 3)\n",
    ")\n",
    "base_model.trainable = False"
   ]
  },
  {
   "cell_type": "code",
   "execution_count": null,
   "id": "b8444b8c-265b-401b-a75c-2175a4bded71",
   "metadata": {
    "execution": {
     "iopub.execute_input": "2024-12-05T19:55:56.275707Z",
     "iopub.status.busy": "2024-12-05T19:55:56.275166Z",
     "iopub.status.idle": "2024-12-05T19:55:56.289891Z",
     "shell.execute_reply": "2024-12-05T19:55:56.289415Z",
     "shell.execute_reply.started": "2024-12-05T19:55:56.275672Z"
    }
   },
   "outputs": [],
   "source": [
    "inputs = keras.Input(shape=(150, 150, 3))\n",
    "base = base_model(inputs, training=False)\n",
    "vectors = keras.layers.GlobalAveragePooling2D()(base)\n",
    "outputs = keras.layers.Dense(10)(vectors)\n",
    "model = keras.Model(inputs, outputs)"
   ]
  },
  {
   "cell_type": "code",
   "execution_count": null,
   "id": "4cc49b37-9502-41b7-9b59-cbefca0f96f5",
   "metadata": {
    "execution": {
     "iopub.execute_input": "2024-12-05T19:55:56.290819Z",
     "iopub.status.busy": "2024-12-05T19:55:56.290532Z",
     "iopub.status.idle": "2024-12-05T19:56:00.856376Z",
     "shell.execute_reply": "2024-12-05T19:56:00.855822Z",
     "shell.execute_reply.started": "2024-12-05T19:55:56.290801Z"
    }
   },
   "outputs": [],
   "source": [
    "preds = model.predict(X)"
   ]
  },
  {
   "cell_type": "code",
   "execution_count": null,
   "id": "3c31a5d9-f13a-46bd-b86c-cf9f407af36a",
   "metadata": {
    "execution": {
     "iopub.execute_input": "2024-12-05T19:56:00.857609Z",
     "iopub.status.busy": "2024-12-05T19:56:00.857252Z",
     "iopub.status.idle": "2024-12-05T19:56:00.862060Z",
     "shell.execute_reply": "2024-12-05T19:56:00.861540Z",
     "shell.execute_reply.started": "2024-12-05T19:56:00.857587Z"
    }
   },
   "outputs": [],
   "source": [
    "preds.shape"
   ]
  },
  {
   "cell_type": "code",
   "execution_count": null,
   "id": "e2c8a265-ebd0-4247-87e1-e9a4615f12ac",
   "metadata": {
    "execution": {
     "iopub.execute_input": "2024-12-05T19:56:00.863050Z",
     "iopub.status.busy": "2024-12-05T19:56:00.862708Z",
     "iopub.status.idle": "2024-12-05T19:56:00.870332Z",
     "shell.execute_reply": "2024-12-05T19:56:00.869884Z",
     "shell.execute_reply.started": "2024-12-05T19:56:00.863030Z"
    }
   },
   "outputs": [],
   "source": [
    "learning_rate = 0.01\n",
    "optimizer = keras.optimizers.Adam(learning_rate=learning_rate)\n",
    "loss = keras.losses.CategoricalCrossentropy(from_logits=True)"
   ]
  },
  {
   "cell_type": "code",
   "execution_count": null,
   "id": "595bb652-5ee3-4cae-bec7-4c435964c9f0",
   "metadata": {
    "execution": {
     "iopub.execute_input": "2024-12-05T19:56:00.871125Z",
     "iopub.status.busy": "2024-12-05T19:56:00.870897Z",
     "iopub.status.idle": "2024-12-05T19:56:00.877286Z",
     "shell.execute_reply": "2024-12-05T19:56:00.876856Z",
     "shell.execute_reply.started": "2024-12-05T19:56:00.871107Z"
    }
   },
   "outputs": [],
   "source": [
    "model.compile(optimizer=optimizer, loss = loss, metrics=['accuracy'])"
   ]
  },
  {
   "cell_type": "code",
   "execution_count": null,
   "id": "6ab30c85-693d-48c2-b3a7-071fc27b3656",
   "metadata": {
    "execution": {
     "iopub.execute_input": "2024-12-05T19:56:00.880720Z",
     "iopub.status.busy": "2024-12-05T19:56:00.880490Z",
     "iopub.status.idle": "2024-12-05T19:57:13.711110Z",
     "shell.execute_reply": "2024-12-05T19:57:13.710603Z",
     "shell.execute_reply.started": "2024-12-05T19:56:00.880703Z"
    }
   },
   "outputs": [],
   "source": [
    "history = model.fit(train_ds, epochs=10, validation_data=val_ds)"
   ]
  },
  {
   "cell_type": "code",
   "execution_count": null,
   "id": "b61c0e46-44ff-4081-8090-92336a247e15",
   "metadata": {
    "execution": {
     "iopub.execute_input": "2024-12-05T19:57:13.712226Z",
     "iopub.status.busy": "2024-12-05T19:57:13.711926Z",
     "iopub.status.idle": "2024-12-05T19:57:13.716609Z",
     "shell.execute_reply": "2024-12-05T19:57:13.716127Z",
     "shell.execute_reply.started": "2024-12-05T19:57:13.712206Z"
    }
   },
   "outputs": [],
   "source": [
    "history.history"
   ]
  },
  {
   "cell_type": "code",
   "execution_count": null,
   "id": "322fb703-ffbc-4258-a4c0-ca3be4f73eb1",
   "metadata": {
    "execution": {
     "iopub.execute_input": "2024-12-05T19:57:13.717544Z",
     "iopub.status.busy": "2024-12-05T19:57:13.717263Z",
     "iopub.status.idle": "2024-12-05T19:57:13.883107Z",
     "shell.execute_reply": "2024-12-05T19:57:13.882466Z",
     "shell.execute_reply.started": "2024-12-05T19:57:13.717525Z"
    }
   },
   "outputs": [],
   "source": [
    "# plt.plot(history.history['accuracy'], label='train')\n",
    "plt.plot(history.history['val_accuracy'], label='val')\n",
    "plt.xticks(np.arange(10))\n",
    "plt.legend()"
   ]
  },
  {
   "cell_type": "code",
   "execution_count": null,
   "id": "93913312-8142-42c4-aaf6-6d61f8894143",
   "metadata": {
    "execution": {
     "iopub.execute_input": "2024-12-05T19:57:13.884240Z",
     "iopub.status.busy": "2024-12-05T19:57:13.883886Z",
     "iopub.status.idle": "2024-12-05T19:57:13.888787Z",
     "shell.execute_reply": "2024-12-05T19:57:13.888330Z",
     "shell.execute_reply.started": "2024-12-05T19:57:13.884211Z"
    }
   },
   "outputs": [],
   "source": [
    "def make_model(learning_rate=0.01, size_inner=100):\n",
    "    base_model = Xception(\n",
    "    weights='imagenet', include_top=False, input_shape=(150, 150, 3)\n",
    "    )\n",
    "    base_model.trainable = False\n",
    "    ###########################################\n",
    "    inputs = keras.Input(shape=(150, 150, 3))\n",
    "    base = base_model(inputs, training=False)\n",
    "    vectors = keras.layers.GlobalAveragePooling2D()(base)\n",
    "    inner = keras.layers.Dense(size_inner, activation='relu')(vectors)\n",
    "    outputs = keras.layers.Dense(10)(inner)\n",
    "    ###########################################\n",
    "    optimizer = keras.optimizers.Adam(learning_rate=learning_rate)\n",
    "    loss = keras.losses.CategoricalCrossentropy(from_logits=True)\n",
    "    model = keras.Model(inputs, outputs)\n",
    "    model.compile(optimizer=optimizer, loss = loss, metrics=['accuracy'])\n",
    "    return model"
   ]
  },
  {
   "cell_type": "code",
   "execution_count": null,
   "id": "1ba9a726-2972-42c9-930b-7274d1c6cae4",
   "metadata": {
    "execution": {
     "iopub.execute_input": "2024-12-05T19:57:13.889670Z",
     "iopub.status.busy": "2024-12-05T19:57:13.889423Z",
     "iopub.status.idle": "2024-12-05T20:01:54.644021Z",
     "shell.execute_reply": "2024-12-05T20:01:54.643336Z",
     "shell.execute_reply.started": "2024-12-05T19:57:13.889652Z"
    }
   },
   "outputs": [],
   "source": [
    "scores = {}\n",
    "for lr in [0.0001, 0.001, 0.01, 0.1]:\n",
    "    print(f'Learning rate: {lr}')\n",
    "    model = make_model(learning_rate=lr)\n",
    "    history = model.fit(train_ds, epochs=10, validation_data=val_ds)\n",
    "    scores[lr] = history.history\n",
    "    print()"
   ]
  },
  {
   "cell_type": "code",
   "execution_count": null,
   "id": "2d9762f9-4193-46ce-8992-8bf33d421e1a",
   "metadata": {
    "execution": {
     "iopub.execute_input": "2024-12-05T20:01:54.645391Z",
     "iopub.status.busy": "2024-12-05T20:01:54.644978Z",
     "iopub.status.idle": "2024-12-05T20:01:54.648357Z",
     "shell.execute_reply": "2024-12-05T20:01:54.647660Z",
     "shell.execute_reply.started": "2024-12-05T20:01:54.645368Z"
    }
   },
   "outputs": [],
   "source": [
    "del scores[0.1]\n",
    "del scores[0.0001]"
   ]
  },
  {
   "cell_type": "code",
   "execution_count": null,
   "id": "607eace7-f6a0-4132-8fbd-dc85cc26b3ff",
   "metadata": {
    "execution": {
     "iopub.execute_input": "2024-12-05T20:01:54.649233Z",
     "iopub.status.busy": "2024-12-05T20:01:54.648967Z",
     "iopub.status.idle": "2024-12-05T20:01:54.655351Z",
     "shell.execute_reply": "2024-12-05T20:01:54.654845Z",
     "shell.execute_reply.started": "2024-12-05T20:01:54.649214Z"
    }
   },
   "outputs": [],
   "source": [
    "scores"
   ]
  },
  {
   "cell_type": "code",
   "execution_count": null,
   "id": "ff99b48f-b9aa-462a-8761-fc1345a30380",
   "metadata": {
    "execution": {
     "iopub.execute_input": "2024-12-05T20:01:54.656315Z",
     "iopub.status.busy": "2024-12-05T20:01:54.656020Z",
     "iopub.status.idle": "2024-12-05T20:01:54.799384Z",
     "shell.execute_reply": "2024-12-05T20:01:54.798571Z",
     "shell.execute_reply.started": "2024-12-05T20:01:54.656296Z"
    }
   },
   "outputs": [],
   "source": [
    "for lr, hist in scores.items():\n",
    "    plt.plot(hist['val_accuracy'], label=lr)\n",
    "plt.xticks(np.arange(10))\n",
    "plt.legend()"
   ]
  },
  {
   "cell_type": "code",
   "execution_count": null,
   "id": "ff09d57d-7e83-4861-96ee-a6a90603e2ab",
   "metadata": {
    "execution": {
     "iopub.execute_input": "2024-12-05T20:01:54.800544Z",
     "iopub.status.busy": "2024-12-05T20:01:54.800264Z",
     "iopub.status.idle": "2024-12-05T20:01:54.803448Z",
     "shell.execute_reply": "2024-12-05T20:01:54.802937Z",
     "shell.execute_reply.started": "2024-12-05T20:01:54.800524Z"
    }
   },
   "outputs": [],
   "source": [
    "learning_rate = 0.001"
   ]
  },
  {
   "cell_type": "code",
   "execution_count": null,
   "id": "25c740cf-7481-471e-8eac-4da7d927ff02",
   "metadata": {
    "execution": {
     "iopub.execute_input": "2024-12-05T20:01:54.804320Z",
     "iopub.status.busy": "2024-12-05T20:01:54.804092Z",
     "iopub.status.idle": "2024-12-05T20:01:55.173949Z",
     "shell.execute_reply": "2024-12-05T20:01:55.173359Z",
     "shell.execute_reply.started": "2024-12-05T20:01:54.804302Z"
    }
   },
   "outputs": [],
   "source": [
    "model.save_weights('model_v1.weights.h5')"
   ]
  },
  {
   "cell_type": "code",
   "execution_count": null,
   "id": "c69bf5a0-de0c-4f1a-b643-7d8f055f553a",
   "metadata": {
    "execution": {
     "iopub.execute_input": "2024-12-05T20:01:55.175236Z",
     "iopub.status.busy": "2024-12-05T20:01:55.174831Z",
     "iopub.status.idle": "2024-12-05T20:01:55.179038Z",
     "shell.execute_reply": "2024-12-05T20:01:55.178494Z",
     "shell.execute_reply.started": "2024-12-05T20:01:55.175204Z"
    }
   },
   "outputs": [],
   "source": [
    "checkpoint = keras.callbacks.ModelCheckpoint(\n",
    "    'xception_v1_{epoch:02d}_{val_accuracy:.3f}.keras',\n",
    "    save_best_only=True,\n",
    "    monitor='val_accuracy',\n",
    "    mode='max'\n",
    ")"
   ]
  },
  {
   "cell_type": "code",
   "execution_count": null,
   "id": "a5f8743e-5ff1-46f3-be7d-96c526735d39",
   "metadata": {
    "execution": {
     "iopub.execute_input": "2024-12-05T20:01:55.180044Z",
     "iopub.status.busy": "2024-12-05T20:01:55.179740Z",
     "iopub.status.idle": "2024-12-05T20:03:08.086534Z",
     "shell.execute_reply": "2024-12-05T20:03:08.086029Z",
     "shell.execute_reply.started": "2024-12-05T20:01:55.180023Z"
    }
   },
   "outputs": [],
   "source": [
    "learning_rate = 0.001\n",
    "model = make_model(learning_rate=learning_rate)\n",
    "history = model.fit(train_ds, epochs=10, validation_data=val_ds, callbacks=[checkpoint])"
   ]
  },
  {
   "cell_type": "code",
   "execution_count": null,
   "id": "52b48e46-9c52-4286-bbb8-bab610cd6efd",
   "metadata": {
    "execution": {
     "iopub.execute_input": "2024-12-05T20:03:08.087889Z",
     "iopub.status.busy": "2024-12-05T20:03:08.087596Z",
     "iopub.status.idle": "2024-12-05T20:06:40.790568Z",
     "shell.execute_reply": "2024-12-05T20:06:40.790001Z",
     "shell.execute_reply.started": "2024-12-05T20:03:08.087866Z"
    }
   },
   "outputs": [],
   "source": [
    "learning_rate = 0.001\n",
    "scores = {}\n",
    "for size in [10, 100, 1000]:\n",
    "    print(f'Inner layer size: {size}')\n",
    "    model = make_model(learning_rate=learning_rate, size_inner=size)\n",
    "    history = model.fit(train_ds, epochs=10, validation_data=val_ds)\n",
    "    scores[size] = history.history\n",
    "    print()"
   ]
  },
  {
   "cell_type": "code",
   "execution_count": null,
   "id": "930c2548-a0ed-4bb6-9bbc-7c60114e5876",
   "metadata": {
    "execution": {
     "iopub.execute_input": "2024-12-05T20:06:40.791828Z",
     "iopub.status.busy": "2024-12-05T20:06:40.791498Z",
     "iopub.status.idle": "2024-12-05T20:06:40.928543Z",
     "shell.execute_reply": "2024-12-05T20:06:40.927867Z",
     "shell.execute_reply.started": "2024-12-05T20:06:40.791803Z"
    }
   },
   "outputs": [],
   "source": [
    "for size, hist in scores.items():\n",
    "    plt.plot(hist['val_accuracy'], label=f'val={size}')\n",
    "plt.xticks(np.arange(10))\n",
    "plt.yticks([0.78, 0.80, 0.82, 0.825, 0.83])\n",
    "plt.legend()"
   ]
  },
  {
   "cell_type": "code",
   "execution_count": null,
   "id": "2941f4c5-f670-44c8-8ab0-3b071203c5d5",
   "metadata": {
    "execution": {
     "iopub.execute_input": "2024-12-05T20:06:40.929505Z",
     "iopub.status.busy": "2024-12-05T20:06:40.929241Z",
     "iopub.status.idle": "2024-12-05T20:06:40.934682Z",
     "shell.execute_reply": "2024-12-05T20:06:40.934156Z",
     "shell.execute_reply.started": "2024-12-05T20:06:40.929480Z"
    }
   },
   "outputs": [],
   "source": [
    "def make_model(learning_rate=0.01, size_inner=100, droprate=0.5):\n",
    "    base_model = Xception(\n",
    "    weights='imagenet', include_top=False, input_shape=(150, 150, 3)\n",
    "    )\n",
    "    base_model.trainable = False\n",
    "    ###########################################\n",
    "    inputs = keras.Input(shape=(150, 150, 3))\n",
    "    base = base_model(inputs, training=False)\n",
    "    vectors = keras.layers.GlobalAveragePooling2D()(base)\n",
    "    inner = keras.layers.Dense(size_inner, activation='relu')(vectors)\n",
    "    drop = keras.layers.Dropout(droprate)(inner)\n",
    "    outputs = keras.layers.Dense(10)(drop)\n",
    "    ###########################################\n",
    "    optimizer = keras.optimizers.Adam(learning_rate=learning_rate)\n",
    "    loss = keras.losses.CategoricalCrossentropy(from_logits=True)\n",
    "    model = keras.Model(inputs, outputs)\n",
    "    model.compile(optimizer=optimizer, loss = loss, metrics=['accuracy'])\n",
    "    return model"
   ]
  },
  {
   "cell_type": "code",
   "execution_count": null,
   "id": "60873bb6-43c6-445c-a069-6f89fabef531",
   "metadata": {
    "execution": {
     "iopub.execute_input": "2024-12-05T20:06:40.936015Z",
     "iopub.status.busy": "2024-12-05T20:06:40.935438Z",
     "iopub.status.idle": "2024-12-05T20:19:10.033438Z",
     "shell.execute_reply": "2024-12-05T20:19:10.032759Z",
     "shell.execute_reply.started": "2024-12-05T20:06:40.935987Z"
    }
   },
   "outputs": [],
   "source": [
    "learning_rate = 0.001\n",
    "size = 100\n",
    "\n",
    "scores = {}\n",
    "for droprate in [0.0, 0.2, 0.5, 0.8]:\n",
    "    print(f'Droprate: {droprate}')\n",
    "    model = make_model(learning_rate=learning_rate, size_inner=size, droprate=droprate)\n",
    "    history = model.fit(train_ds, epochs=30, validation_data=val_ds)\n",
    "    scores[droprate] = history.history\n",
    "    print()"
   ]
  },
  {
   "cell_type": "code",
   "execution_count": null,
   "id": "5f889821-b8a2-42ad-8402-0f13283d81f4",
   "metadata": {
    "execution": {
     "iopub.execute_input": "2024-12-05T20:19:10.035103Z",
     "iopub.status.busy": "2024-12-05T20:19:10.034489Z",
     "iopub.status.idle": "2024-12-05T20:19:10.199435Z",
     "shell.execute_reply": "2024-12-05T20:19:10.198742Z",
     "shell.execute_reply.started": "2024-12-05T20:19:10.035080Z"
    }
   },
   "outputs": [],
   "source": [
    "for droprate, hist in scores.items():\n",
    "    plt.plot(hist['val_accuracy'], label=f'val={droprate}')\n",
    "# plt.xticks(np.arange(10))\n",
    "# plt.yticks([0.78, 0.80, 0.82, 0.825, 0.83])\n",
    "plt.ylim(0.78, 0.86)\n",
    "plt.legend()"
   ]
  },
  {
   "cell_type": "code",
   "execution_count": null,
   "id": "acb64834-1a9d-4d78-818b-b2c3d7e5cb11",
   "metadata": {
    "execution": {
     "iopub.execute_input": "2024-12-05T20:19:10.200602Z",
     "iopub.status.busy": "2024-12-05T20:19:10.200336Z",
     "iopub.status.idle": "2024-12-05T20:19:10.203594Z",
     "shell.execute_reply": "2024-12-05T20:19:10.203051Z",
     "shell.execute_reply.started": "2024-12-05T20:19:10.200582Z"
    }
   },
   "outputs": [],
   "source": [
    "learning_rate = 0.001\n",
    "size_inner = 100\n",
    "droprate = 0.2"
   ]
  },
  {
   "cell_type": "code",
   "execution_count": null,
   "id": "3c693e72-24f9-47f1-8c56-5290bc968a42",
   "metadata": {
    "execution": {
     "iopub.execute_input": "2024-12-05T20:19:10.204485Z",
     "iopub.status.busy": "2024-12-05T20:19:10.204228Z",
     "iopub.status.idle": "2024-12-05T20:19:10.311304Z",
     "shell.execute_reply": "2024-12-05T20:19:10.310713Z",
     "shell.execute_reply.started": "2024-12-05T20:19:10.204468Z"
    }
   },
   "outputs": [],
   "source": [
    "train_gen = ImageDataGenerator(\n",
    "    preprocessing_function=preprocess_input,\n",
    "    # rotation_range=30,\n",
    "    # width_shift_range=10.0,\n",
    "    # height_shift_range=10.0,\n",
    "    shear_range=10,\n",
    "    zoom_range=0.1,\n",
    "    vertical_flip=True\n",
    ")\n",
    "train_ds = train_gen.flow_from_directory(\n",
    "    './clothing-dataset-small/train/', target_size=(150, 150), batch_size=32\n",
    ")\n",
    "\n",
    "val_gen = ImageDataGenerator(preprocessing_function=preprocess_input)\n",
    "val_ds = val_gen.flow_from_directory(\n",
    "    './clothing-dataset-small/validation/', target_size=(150, 150), batch_size=32, shuffle=False\n",
    ")"
   ]
  },
  {
   "cell_type": "code",
   "execution_count": null,
   "id": "53157ec9-6386-4b74-9ac6-6c17d5ffd3e7",
   "metadata": {
    "execution": {
     "iopub.execute_input": "2024-12-05T20:19:10.312888Z",
     "iopub.status.busy": "2024-12-05T20:19:10.312111Z",
     "iopub.status.idle": "2024-12-05T20:34:11.401953Z",
     "shell.execute_reply": "2024-12-05T20:34:11.401369Z",
     "shell.execute_reply.started": "2024-12-05T20:19:10.312856Z"
    }
   },
   "outputs": [],
   "source": [
    "learning_rate = 0.001\n",
    "size_inner = 100\n",
    "droprate = 0.2\n",
    "model = make_model(learning_rate=learning_rate, size_inner=size_inner, droprate=droprate)\n",
    "history = model.fit(train_ds, epochs=50, validation_data=val_ds)"
   ]
  },
  {
   "cell_type": "code",
   "execution_count": null,
   "id": "51bd53f3-7d86-4d92-aee7-0c7fa6755982",
   "metadata": {
    "execution": {
     "iopub.execute_input": "2024-12-05T20:34:11.404330Z",
     "iopub.status.busy": "2024-12-05T20:34:11.403889Z",
     "iopub.status.idle": "2024-12-05T20:34:11.545124Z",
     "shell.execute_reply": "2024-12-05T20:34:11.544638Z",
     "shell.execute_reply.started": "2024-12-05T20:34:11.404310Z"
    }
   },
   "outputs": [],
   "source": [
    "hist = history.history\n",
    "plt.plot(hist['val_accuracy'], label='val')\n",
    "plt.plot(hist['accuracy'], label='train')\n",
    "plt.legend()"
   ]
  },
  {
   "cell_type": "code",
   "execution_count": null,
   "id": "9c17bf7f-c012-442f-9253-09bec6091e64",
   "metadata": {
    "execution": {
     "iopub.execute_input": "2024-12-05T20:34:11.546046Z",
     "iopub.status.busy": "2024-12-05T20:34:11.545763Z",
     "iopub.status.idle": "2024-12-05T20:34:11.550493Z",
     "shell.execute_reply": "2024-12-05T20:34:11.549977Z",
     "shell.execute_reply.started": "2024-12-05T20:34:11.546028Z"
    }
   },
   "outputs": [],
   "source": [
    "def make_model(input_size=150, learning_rate=0.01, size_inner=100, droprate=0.5):\n",
    "    base_model = Xception(\n",
    "    weights='imagenet', include_top=False, input_shape=(input_size, input_size, 3)\n",
    "    )\n",
    "    base_model.trainable = False\n",
    "    ###########################################\n",
    "    inputs = keras.Input(shape=(input_size, input_size, 3))\n",
    "    base = base_model(inputs, training=False)\n",
    "    vectors = keras.layers.GlobalAveragePooling2D()(base)\n",
    "    inner = keras.layers.Dense(size_inner, activation='relu')(vectors)\n",
    "    drop = keras.layers.Dropout(droprate)(inner)\n",
    "    outputs = keras.layers.Dense(10)(drop)\n",
    "    ###########################################\n",
    "    optimizer = keras.optimizers.Adam(learning_rate=learning_rate)\n",
    "    loss = keras.losses.CategoricalCrossentropy(from_logits=True)\n",
    "    model = keras.Model(inputs, outputs)\n",
    "    model.compile(optimizer=optimizer, loss = loss, metrics=['accuracy'])\n",
    "    return model"
   ]
  },
  {
   "cell_type": "code",
   "execution_count": null,
   "id": "62fa710d-2ac6-4c0d-a113-cbbae7cfbf64",
   "metadata": {
    "execution": {
     "iopub.execute_input": "2024-12-05T20:34:11.551857Z",
     "iopub.status.busy": "2024-12-05T20:34:11.551038Z",
     "iopub.status.idle": "2024-12-05T20:34:11.556237Z",
     "shell.execute_reply": "2024-12-05T20:34:11.555722Z",
     "shell.execute_reply.started": "2024-12-05T20:34:11.551838Z"
    }
   },
   "outputs": [],
   "source": [
    "input_size = 299"
   ]
  },
  {
   "cell_type": "code",
   "execution_count": null,
   "id": "dee56a0d-595a-40d3-b9d5-676607875dbd",
   "metadata": {
    "execution": {
     "iopub.execute_input": "2024-12-05T20:34:11.557911Z",
     "iopub.status.busy": "2024-12-05T20:34:11.557666Z",
     "iopub.status.idle": "2024-12-05T20:34:11.665795Z",
     "shell.execute_reply": "2024-12-05T20:34:11.665346Z",
     "shell.execute_reply.started": "2024-12-05T20:34:11.557893Z"
    }
   },
   "outputs": [],
   "source": [
    "train_gen = ImageDataGenerator(\n",
    "    preprocessing_function=preprocess_input,\n",
    "    shear_range=10,\n",
    "    zoom_range=0.1,\n",
    "    vertical_flip=True\n",
    ")\n",
    "train_ds = train_gen.flow_from_directory(\n",
    "    './clothing-dataset-small/train/', target_size=(input_size, input_size), batch_size=32\n",
    ")\n",
    "\n",
    "val_gen = ImageDataGenerator(preprocessing_function=preprocess_input)\n",
    "val_ds = val_gen.flow_from_directory(\n",
    "    './clothing-dataset-small/validation/', target_size=(input_size, input_size), batch_size=32, shuffle=False\n",
    ")"
   ]
  },
  {
   "cell_type": "code",
   "execution_count": null,
   "id": "08ee877e-a871-4690-b0b1-96f32e2de06c",
   "metadata": {
    "execution": {
     "iopub.execute_input": "2024-12-05T20:34:11.666905Z",
     "iopub.status.busy": "2024-12-05T20:34:11.666410Z",
     "iopub.status.idle": "2024-12-05T20:34:11.670264Z",
     "shell.execute_reply": "2024-12-05T20:34:11.669668Z",
     "shell.execute_reply.started": "2024-12-05T20:34:11.666870Z"
    }
   },
   "outputs": [],
   "source": [
    "checkpoint = keras.callbacks.ModelCheckpoint(\n",
    "    'xception_v4_{epoch:02d}_{val_accuracy:.3f}.keras',\n",
    "    save_best_only=True,\n",
    "    monitor='val_accuracy',\n",
    "    mode='max'\n",
    ")"
   ]
  },
  {
   "cell_type": "code",
   "execution_count": null,
   "id": "c1223d5a-849b-4167-b2bb-863098e283f5",
   "metadata": {
    "execution": {
     "iopub.execute_input": "2024-12-05T20:34:11.672098Z",
     "iopub.status.busy": "2024-12-05T20:34:11.671833Z",
     "iopub.status.idle": "2024-12-05T21:20:37.115092Z",
     "shell.execute_reply": "2024-12-05T21:20:37.114536Z",
     "shell.execute_reply.started": "2024-12-05T20:34:11.672081Z"
    }
   },
   "outputs": [],
   "source": [
    "learning_rate = 0.001\n",
    "size_inner = 100\n",
    "droprate = 0.2\n",
    "\n",
    "model = make_model(input_size=input_size, learning_rate=learning_rate, size_inner=size_inner, droprate=droprate)\n",
    "history = model.fit(train_ds, epochs=50, validation_data=val_ds, callbacks=[checkpoint])"
   ]
  },
  {
   "cell_type": "code",
   "execution_count": null,
   "id": "0b87ef1b-ce1e-48c7-a594-5def98f9d0c9",
   "metadata": {
    "execution": {
     "iopub.execute_input": "2024-12-05T21:22:34.591553Z",
     "iopub.status.busy": "2024-12-05T21:22:34.591215Z",
     "iopub.status.idle": "2024-12-05T21:22:48.291279Z",
     "shell.execute_reply": "2024-12-05T21:22:48.290710Z",
     "shell.execute_reply.started": "2024-12-05T21:22:34.591532Z"
    }
   },
   "outputs": [],
   "source": [
    "trained_model = keras.models.load_model('xception_v4_36_0.883.keras')\n",
    "input_size = 299\n",
    "test_gen = ImageDataGenerator(preprocessing_function=preprocess_input)\n",
    "test_ds = test_gen.flow_from_directory(\n",
    "    './clothing-dataset-small/test/', target_size=(input_size, input_size), batch_size=32, shuffle=False\n",
    ")\n",
    "trained_model.evaluate(test_ds)"
   ]
  },
  {
   "cell_type": "code",
   "execution_count": null,
   "id": "bdc46579-80e9-4a4a-bbde-a335222a6f96",
   "metadata": {
    "execution": {
     "iopub.execute_input": "2024-12-05T21:23:29.894769Z",
     "iopub.status.busy": "2024-12-05T21:23:29.894433Z",
     "iopub.status.idle": "2024-12-05T21:23:32.285542Z",
     "shell.execute_reply": "2024-12-05T21:23:32.284947Z",
     "shell.execute_reply.started": "2024-12-05T21:23:29.894749Z"
    }
   },
   "outputs": [],
   "source": [
    "path = './clothing-dataset-small/test/pants/c8d21106-bbdb-4e8d-83e4-bf3d14e54c16.jpg'\n",
    "img = load_img(path, target_size=(input_size, input_size))\n",
    "x = np.array(img)\n",
    "X = np.array([x])\n",
    "# print(X.shape)\n",
    "X = preprocess_input(X)\n",
    "pred = trained_model.predict(X)"
   ]
  },
  {
   "cell_type": "code",
   "execution_count": null,
   "id": "ebee5bc3-9bf5-4a76-9e28-c3de567a8bfd",
   "metadata": {
    "execution": {
     "iopub.execute_input": "2024-12-05T21:23:41.590609Z",
     "iopub.status.busy": "2024-12-05T21:23:41.590262Z",
     "iopub.status.idle": "2024-12-05T21:23:41.593752Z",
     "shell.execute_reply": "2024-12-05T21:23:41.593094Z",
     "shell.execute_reply.started": "2024-12-05T21:23:41.590587Z"
    }
   },
   "outputs": [],
   "source": [
    "classes = ['dress','hat','longsleeve', 'outwear', 'pants', 'shirt', 'shoes', 'shorts', 'skirt', 't-shirt']"
   ]
  },
  {
   "cell_type": "code",
   "execution_count": null,
   "id": "f38f72f0-b03b-4f26-a958-9b56a3dc374a",
   "metadata": {
    "execution": {
     "iopub.execute_input": "2024-12-05T21:23:42.739289Z",
     "iopub.status.busy": "2024-12-05T21:23:42.738937Z",
     "iopub.status.idle": "2024-12-05T21:23:42.744013Z",
     "shell.execute_reply": "2024-12-05T21:23:42.743359Z",
     "shell.execute_reply.started": "2024-12-05T21:23:42.739268Z"
    }
   },
   "outputs": [],
   "source": [
    "dict(zip(classes, pred[0]))"
   ]
  },
  {
   "cell_type": "code",
   "execution_count": null,
   "id": "3e33ad5b-7816-4f62-bf0b-97c8b0d90d6d",
   "metadata": {},
   "outputs": [],
   "source": []
  }
 ],
 "metadata": {
  "kernelspec": {
   "display_name": "ml-zoomcamp",
   "language": "python",
   "name": "python3"
  },
  "language_info": {
   "codemirror_mode": {
    "name": "ipython",
    "version": 3
   },
   "file_extension": ".py",
   "mimetype": "text/x-python",
   "name": "python",
   "nbconvert_exporter": "python",
   "pygments_lexer": "ipython3",
   "version": "3.9.19"
  }
 },
 "nbformat": 4,
 "nbformat_minor": 5
}
